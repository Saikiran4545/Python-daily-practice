{
  "nbformat": 4,
  "nbformat_minor": 0,
  "metadata": {
    "colab": {
      "provenance": [],
      "authorship_tag": "ABX9TyNiW5sV8m8DjaU98vm0zqM5",
      "include_colab_link": true
    },
    "kernelspec": {
      "name": "python3",
      "display_name": "Python 3"
    },
    "language_info": {
      "name": "python"
    }
  },
  "cells": [
    {
      "cell_type": "markdown",
      "metadata": {
        "id": "view-in-github",
        "colab_type": "text"
      },
      "source": [
        "<a href=\"https://colab.research.google.com/github/Saikiran4545/Python-daily-practice/blob/main/Daily_practice_6_ifelse.ipynb\" target=\"_parent\"><img src=\"https://colab.research.google.com/assets/colab-badge.svg\" alt=\"Open In Colab\"/></a>"
      ]
    },
    {
      "cell_type": "code",
      "execution_count": 1,
      "metadata": {
        "colab": {
          "base_uri": "https://localhost:8080/"
        },
        "id": "QMmGeRK3R-31",
        "outputId": "857e298b-dd4a-4e0f-a35d-5b7c0238cb44"
      },
      "outputs": [
        {
          "output_type": "stream",
          "name": "stdout",
          "text": [
            "b is greater than a\n"
          ]
        }
      ],
      "source": [
        "#programme 1\n",
        "a = 33\n",
        "b = 200\n",
        "if b > a:\n",
        "  print(\"b is greater than a\")"
      ]
    },
    {
      "cell_type": "code",
      "source": [
        "#programme 2\n",
        "a = 33\n",
        "b = 33\n",
        "if b > a:\n",
        "  print(\"b is greater than a\")\n",
        "elif a == b:\n",
        "  print(\"a and b are equal\")"
      ],
      "metadata": {
        "colab": {
          "base_uri": "https://localhost:8080/"
        },
        "id": "vIYS6j84S-yd",
        "outputId": "e52ad824-8f54-4994-b546-a86c49cb361c"
      },
      "execution_count": 2,
      "outputs": [
        {
          "output_type": "stream",
          "name": "stdout",
          "text": [
            "a and b are equal\n"
          ]
        }
      ]
    },
    {
      "cell_type": "code",
      "source": [
        "#programme 3\n",
        "a = 200\n",
        "b = 33\n",
        "if b > a:\n",
        "  print(\"b is greater than a\")\n",
        "elif a == b:\n",
        "  print(\"a and b are equal\")\n",
        "else:\n",
        "  print(\"a is greater than b\")"
      ],
      "metadata": {
        "id": "vnden9zwTySs"
      },
      "execution_count": null,
      "outputs": []
    },
    {
      "cell_type": "code",
      "source": [
        "#programme 4\n",
        "a = 200\n",
        "b = 33\n",
        "if a > b : print(\"a is greater than b\")"
      ],
      "metadata": {
        "colab": {
          "base_uri": "https://localhost:8080/"
        },
        "id": "wu7ley2HUD7D",
        "outputId": "f7da10c6-96e8-49da-e58f-2e17103ed5f3"
      },
      "execution_count": 3,
      "outputs": [
        {
          "output_type": "stream",
          "name": "stdout",
          "text": [
            "a is greater than b\n"
          ]
        }
      ]
    },
    {
      "cell_type": "code",
      "source": [
        "#programme 5\n",
        "a = 3000\n",
        "b = 21\n",
        "print (\"A\") if a>b else print(\"B\")"
      ],
      "metadata": {
        "colab": {
          "base_uri": "https://localhost:8080/"
        },
        "id": "_h2skVXiUTFG",
        "outputId": "6cabf143-4943-49cf-e504-adcbf1875777"
      },
      "execution_count": 4,
      "outputs": [
        {
          "output_type": "stream",
          "name": "stdout",
          "text": [
            "A\n"
          ]
        }
      ]
    },
    {
      "cell_type": "code",
      "source": [
        "#programme 6\n",
        "a = 21\n",
        "b = 21\n",
        "print (\"A\") if a>b else print(\"==\") if a==b else print(\"B\")"
      ],
      "metadata": {
        "colab": {
          "base_uri": "https://localhost:8080/"
        },
        "id": "m4qalcldU2MO",
        "outputId": "c7fb89d4-3c6e-4c8b-ce64-72ec62746918"
      },
      "execution_count": 5,
      "outputs": [
        {
          "output_type": "stream",
          "name": "stdout",
          "text": [
            "==\n"
          ]
        }
      ]
    },
    {
      "cell_type": "code",
      "source": [
        "#programme 7\n",
        "a = 500\n",
        "b = 21\n",
        "c =1000\n",
        "if a>b and c>a: print(\"Both conditions are true\")"
      ],
      "metadata": {
        "colab": {
          "base_uri": "https://localhost:8080/"
        },
        "id": "W7kkGpnZVta2",
        "outputId": "e11674f2-24b3-4b93-da00-2e2586c12311"
      },
      "execution_count": 6,
      "outputs": [
        {
          "output_type": "stream",
          "name": "stdout",
          "text": [
            "Both conditions are true\n"
          ]
        }
      ]
    },
    {
      "cell_type": "code",
      "source": [
        "#programme 8\n",
        "a = 500\n",
        "b = 21\n",
        "c =1000\n",
        "if a>b or a>c: print(\" Any one condition is true\")"
      ],
      "metadata": {
        "colab": {
          "base_uri": "https://localhost:8080/"
        },
        "id": "c3HIjQZyWvj9",
        "outputId": "97ef827c-b982-41a3-e687-f120153fd292"
      },
      "execution_count": 7,
      "outputs": [
        {
          "output_type": "stream",
          "name": "stdout",
          "text": [
            " Any one condition is true\n"
          ]
        }
      ]
    },
    {
      "cell_type": "code",
      "source": [
        "#programme 9\n",
        "a = 99\n",
        "if a>20:\n",
        " print (\"Above 99\")\n",
        " if a>55:\n",
        "  print (\"also above 55\")\n",
        " else:\n",
        "   print(\"but not above 55\")"
      ],
      "metadata": {
        "colab": {
          "base_uri": "https://localhost:8080/"
        },
        "id": "K5E09T9HXv2s",
        "outputId": "017da22e-ad4e-4f64-b5ce-611185d843bc"
      },
      "execution_count": 8,
      "outputs": [
        {
          "output_type": "stream",
          "name": "stdout",
          "text": [
            "Above 99\n",
            "also above 55\n"
          ]
        }
      ]
    },
    {
      "cell_type": "code",
      "source": [
        "#programme 10\n",
        "a = 21\n",
        "b = 99\n",
        "if b>a:\n",
        "  pass\n"
      ],
      "metadata": {
        "id": "_7x9WZ8WbAnx"
      },
      "execution_count": 10,
      "outputs": []
    }
  ]
}