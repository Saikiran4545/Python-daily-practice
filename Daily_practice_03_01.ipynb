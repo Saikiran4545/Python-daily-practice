{
  "nbformat": 4,
  "nbformat_minor": 0,
  "metadata": {
    "colab": {
      "provenance": [],
      "authorship_tag": "ABX9TyPSnY0mZ8Cbc6vJrga/GEBX",
      "include_colab_link": true
    },
    "kernelspec": {
      "name": "python3",
      "display_name": "Python 3"
    },
    "language_info": {
      "name": "python"
    }
  },
  "cells": [
    {
      "cell_type": "markdown",
      "metadata": {
        "id": "view-in-github",
        "colab_type": "text"
      },
      "source": [
        "<a href=\"https://colab.research.google.com/github/Saikiran4545/Python-daily-practice/blob/main/Daily_practice_03_01.ipynb\" target=\"_parent\"><img src=\"https://colab.research.google.com/assets/colab-badge.svg\" alt=\"Open In Colab\"/></a>"
      ]
    },
    {
      "cell_type": "code",
      "execution_count": 1,
      "metadata": {
        "colab": {
          "base_uri": "https://localhost:8080/",
          "height": 36
        },
        "id": "3UBIj6nM__AK",
        "outputId": "554f4a74-1ea1-421b-f569-df6f70ee5b92"
      },
      "outputs": [
        {
          "output_type": "execute_result",
          "data": {
            "text/plain": [
              "'earnin'"
            ],
            "application/vnd.google.colaboratory.intrinsic+json": {
              "type": "string"
            }
          },
          "metadata": {},
          "execution_count": 1
        }
      ],
      "source": [
        "# python code 1:- \n",
        "s=\"Learning Python is very very easy!!!\"\n",
        "s[1:7:1]"
      ]
    },
    {
      "cell_type": "code",
      "source": [
        "s[::]"
      ],
      "metadata": {
        "colab": {
          "base_uri": "https://localhost:8080/",
          "height": 36
        },
        "id": "WJVReoB9EjT9",
        "outputId": "90f1e836-13b1-4ce7-9f4a-6b2346dfe56f"
      },
      "execution_count": 2,
      "outputs": [
        {
          "output_type": "execute_result",
          "data": {
            "text/plain": [
              "'Learning Python is very very easy!!!'"
            ],
            "application/vnd.google.colaboratory.intrinsic+json": {
              "type": "string"
            }
          },
          "metadata": {},
          "execution_count": 2
        }
      ]
    },
    {
      "cell_type": "code",
      "source": [
        "s[::-1]"
      ],
      "metadata": {
        "colab": {
          "base_uri": "https://localhost:8080/",
          "height": 36
        },
        "id": "9U1WOHbDEn1y",
        "outputId": "37a396d9-e847-4b82-d112-5a094f020556"
      },
      "execution_count": 3,
      "outputs": [
        {
          "output_type": "execute_result",
          "data": {
            "text/plain": [
              "'!!!ysae yrev yrev si nohtyP gninraeL'"
            ],
            "application/vnd.google.colaboratory.intrinsic+json": {
              "type": "string"
            }
          },
          "metadata": {},
          "execution_count": 3
        }
      ]
    },
    {
      "cell_type": "code",
      "source": [
        "len(s)"
      ],
      "metadata": {
        "colab": {
          "base_uri": "https://localhost:8080/"
        },
        "id": "-8xw31PmEweJ",
        "outputId": "aa48ede9-0369-4a6e-8f90-02e6a2724d86"
      },
      "execution_count": 4,
      "outputs": [
        {
          "output_type": "execute_result",
          "data": {
            "text/plain": [
              "36"
            ]
          },
          "metadata": {},
          "execution_count": 4
        }
      ]
    },
    {
      "cell_type": "code",
      "source": [
        "city=input(\"Enter your city Name:\")\n",
        "scity=city.strip()\n",
        "if scity=='Hyderabad':\n",
        "    print(\"Hello Hyderbadi..Adab\")\n",
        "elif scity=='Chennai':\n",
        "    print(\"Hello Madrasi...Vanakkam\")\n",
        "elif scity==\"Bangalore\":\n",
        "    print(\"Hello Kannadiga...Shubhodaya\")\n",
        "else:\n",
        "    print(\"your entered city is invalid\")\n",
        "    "
      ],
      "metadata": {
        "colab": {
          "base_uri": "https://localhost:8080/"
        },
        "id": "RIdp_434HZz1",
        "outputId": "63988942-e68e-4ff4-fd83-ca5ed756149a"
      },
      "execution_count": 19,
      "outputs": [
        {
          "output_type": "stream",
          "name": "stdout",
          "text": [
            "Enter your city Name:Hyderabad\n",
            "Hello Hyderbadi..Adab\n"
          ]
        }
      ]
    },
    {
      "cell_type": "code",
      "source": [
        "#programme 3\n",
        "s=\"abcabcabcabcadda\"\n",
        "print(s.count('a'))"
      ],
      "metadata": {
        "colab": {
          "base_uri": "https://localhost:8080/"
        },
        "id": "X4TGAbw3KLyX",
        "outputId": "a3e81884-5b42-4d28-8a72-e650def3acd2"
      },
      "execution_count": 21,
      "outputs": [
        {
          "output_type": "stream",
          "name": "stdout",
          "text": [
            "6\n"
          ]
        }
      ]
    },
    {
      "cell_type": "code",
      "source": [
        "#programme 4\n",
        "s = \"Learning python is very difficult\"\n",
        "s1 = s.replace(\"difficult\",\"easy\")\n",
        "print(s1)"
      ],
      "metadata": {
        "colab": {
          "base_uri": "https://localhost:8080/"
        },
        "id": "C8x9ajeXLfVx",
        "outputId": "c809eccd-471a-43b9-d11e-2eac68f71b42"
      },
      "execution_count": 25,
      "outputs": [
        {
          "output_type": "stream",
          "name": "stdout",
          "text": [
            "Learning python is very easy\n"
          ]
        }
      ]
    },
    {
      "cell_type": "code",
      "source": [
        "#programme 5\n",
        "s = \"3-1-2022\"\n",
        "s1 = s.split('-')\n",
        "for x in s1:\n",
        "  print(x)"
      ],
      "metadata": {
        "colab": {
          "base_uri": "https://localhost:8080/"
        },
        "id": "XkyHedsGMAft",
        "outputId": "52488982-f806-4c29-abf5-1f9482c482f6"
      },
      "execution_count": 30,
      "outputs": [
        {
          "output_type": "stream",
          "name": "stdout",
          "text": [
            "3\n",
            "1\n",
            "2022\n"
          ]
        }
      ]
    },
    {
      "cell_type": "code",
      "source": [
        "#programme 6\n",
        "s= [\"python\", \"is\" ,\"easy\"]\n",
        "'+'.join(s)"
      ],
      "metadata": {
        "colab": {
          "base_uri": "https://localhost:8080/",
          "height": 36
        },
        "id": "Nvc2b-yuM8NE",
        "outputId": "335c6d55-0dd3-48a7-84af-f7ea9af6983a"
      },
      "execution_count": 32,
      "outputs": [
        {
          "output_type": "execute_result",
          "data": {
            "text/plain": [
              "'python+is+easy'"
            ],
            "application/vnd.google.colaboratory.intrinsic+json": {
              "type": "string"
            }
          },
          "metadata": {},
          "execution_count": 32
        }
      ]
    },
    {
      "cell_type": "code",
      "source": [
        "#programme 7\n",
        "s = \"Learning Python is easy\"\n",
        "print(s.upper())\n",
        "print(s.lower())\n",
        "print(s.swapcase())\n",
        "print(s.title())\n",
        "print(s.capitalize())"
      ],
      "metadata": {
        "colab": {
          "base_uri": "https://localhost:8080/"
        },
        "id": "q66orHyKNYT5",
        "outputId": "3d54ff0d-712b-4428-ed0d-85f3a4cb35f4"
      },
      "execution_count": 34,
      "outputs": [
        {
          "output_type": "stream",
          "name": "stdout",
          "text": [
            "LEARNING PYTHON IS EASY\n",
            "learning python is easy\n",
            "lEARNING pYTHON IS EASY\n",
            "Learning Python Is Easy\n",
            "Learning python is easy\n"
          ]
        }
      ]
    },
    {
      "cell_type": "code",
      "source": [
        "#programme 8\n",
        "name = \"Saikiran\"\n",
        "age = 32\n",
        "salary = 325000\n",
        "print(\"{}'s salary is {}and his age is {}\".format(name,age,salary))\n",
        "print(\"{0}'s salary is {2} and his age is {1}\".format(name,salary,age) )\n",
        "print(\"{x}'s salary is {z} and his age is {y}\".format(x=name,z=salary,y=age))"
      ],
      "metadata": {
        "colab": {
          "base_uri": "https://localhost:8080/"
        },
        "id": "txP9wvBxO5tq",
        "outputId": "b5caf2ca-7eb7-47fd-dd4f-0b9e11287239"
      },
      "execution_count": 41,
      "outputs": [
        {
          "output_type": "stream",
          "name": "stdout",
          "text": [
            "Saikiran's salary is 32and his age is 325000\n",
            "Saikiran's salary is 32 and his age is 325000\n",
            "Saikiran's salary is 325000 and his age is 32\n"
          ]
        }
      ]
    },
    {
      "cell_type": "code",
      "source": [
        "#programme 9\n",
        "s = \"Saikiran\"\n",
        "\"\".join(reversed(s))"
      ],
      "metadata": {
        "colab": {
          "base_uri": "https://localhost:8080/",
          "height": 36
        },
        "id": "q4GWri4RQ8ez",
        "outputId": "00ee6faa-5671-40ce-80ca-88f12a5fdabe"
      },
      "execution_count": 47,
      "outputs": [
        {
          "output_type": "execute_result",
          "data": {
            "text/plain": [
              "'narikiaS'"
            ],
            "application/vnd.google.colaboratory.intrinsic+json": {
              "type": "string"
            }
          },
          "metadata": {},
          "execution_count": 47
        }
      ]
    },
    {
      "cell_type": "code",
      "source": [
        "#programme 10"
      ],
      "metadata": {
        "id": "AqfCbdlERsAs"
      },
      "execution_count": null,
      "outputs": []
    }
  ]
}